{
 "cells": [
  {
   "cell_type": "code",
   "execution_count": 217,
   "metadata": {
    "collapsed": true
   },
   "outputs": [],
   "source": [
    "import pandas\n",
    "import numpy as np\n",
    "import pylab as plt\n",
    "import math\n",
    "%matplotlib inline\n",
    "\n",
    "RAND = 228"
   ]
  },
  {
   "cell_type": "code",
   "execution_count": 218,
   "metadata": {
    "scrolled": true
   },
   "outputs": [
    {
     "data": {
      "text/html": [
       "<div>\n",
       "<style>\n",
       "    .dataframe thead tr:only-child th {\n",
       "        text-align: right;\n",
       "    }\n",
       "\n",
       "    .dataframe thead th {\n",
       "        text-align: left;\n",
       "    }\n",
       "\n",
       "    .dataframe tbody tr th {\n",
       "        vertical-align: top;\n",
       "    }\n",
       "</style>\n",
       "<table border=\"1\" class=\"dataframe\">\n",
       "  <thead>\n",
       "    <tr style=\"text-align: right;\">\n",
       "      <th></th>\n",
       "      <th>start_time</th>\n",
       "      <th>lobby_type</th>\n",
       "      <th>r1_hero</th>\n",
       "      <th>r1_level</th>\n",
       "      <th>r1_xp</th>\n",
       "      <th>r1_gold</th>\n",
       "      <th>r1_lh</th>\n",
       "      <th>r1_kills</th>\n",
       "      <th>r1_deaths</th>\n",
       "      <th>r1_items</th>\n",
       "      <th>...</th>\n",
       "      <th>dire_boots_count</th>\n",
       "      <th>dire_ward_observer_count</th>\n",
       "      <th>dire_ward_sentry_count</th>\n",
       "      <th>dire_first_ward_time</th>\n",
       "      <th>duration</th>\n",
       "      <th>radiant_win</th>\n",
       "      <th>tower_status_radiant</th>\n",
       "      <th>tower_status_dire</th>\n",
       "      <th>barracks_status_radiant</th>\n",
       "      <th>barracks_status_dire</th>\n",
       "    </tr>\n",
       "  </thead>\n",
       "  <tbody>\n",
       "    <tr>\n",
       "      <th>count</th>\n",
       "      <td>9.723000e+04</td>\n",
       "      <td>97230.000000</td>\n",
       "      <td>97230.000000</td>\n",
       "      <td>97230.000000</td>\n",
       "      <td>97230.000000</td>\n",
       "      <td>97230.000000</td>\n",
       "      <td>97230.000000</td>\n",
       "      <td>97230.000000</td>\n",
       "      <td>97230.000000</td>\n",
       "      <td>97230.000000</td>\n",
       "      <td>...</td>\n",
       "      <td>97230.000000</td>\n",
       "      <td>97230.000000</td>\n",
       "      <td>97230.000000</td>\n",
       "      <td>95404.000000</td>\n",
       "      <td>97230.000000</td>\n",
       "      <td>97230.000000</td>\n",
       "      <td>97230.000000</td>\n",
       "      <td>97230.000000</td>\n",
       "      <td>97230.000000</td>\n",
       "      <td>97230.000000</td>\n",
       "    </tr>\n",
       "    <tr>\n",
       "      <th>mean</th>\n",
       "      <td>1.444232e+09</td>\n",
       "      <td>2.630999</td>\n",
       "      <td>51.517104</td>\n",
       "      <td>3.442672</td>\n",
       "      <td>1233.405801</td>\n",
       "      <td>1147.899702</td>\n",
       "      <td>11.231996</td>\n",
       "      <td>0.357009</td>\n",
       "      <td>0.362285</td>\n",
       "      <td>8.271315</td>\n",
       "      <td>...</td>\n",
       "      <td>3.349553</td>\n",
       "      <td>2.448339</td>\n",
       "      <td>0.689119</td>\n",
       "      <td>-6.901922</td>\n",
       "      <td>2332.247886</td>\n",
       "      <td>0.518503</td>\n",
       "      <td>1309.227790</td>\n",
       "      <td>1286.310820</td>\n",
       "      <td>40.599095</td>\n",
       "      <td>41.337036</td>\n",
       "    </tr>\n",
       "    <tr>\n",
       "      <th>std</th>\n",
       "      <td>5.515393e+06</td>\n",
       "      <td>2.835761</td>\n",
       "      <td>32.564211</td>\n",
       "      <td>1.111741</td>\n",
       "      <td>566.588895</td>\n",
       "      <td>464.111662</td>\n",
       "      <td>9.041620</td>\n",
       "      <td>0.663889</td>\n",
       "      <td>0.626704</td>\n",
       "      <td>2.497575</td>\n",
       "      <td>...</td>\n",
       "      <td>1.155609</td>\n",
       "      <td>0.813459</td>\n",
       "      <td>0.710122</td>\n",
       "      <td>40.701397</td>\n",
       "      <td>715.806850</td>\n",
       "      <td>0.499660</td>\n",
       "      <td>853.921365</td>\n",
       "      <td>851.009148</td>\n",
       "      <td>27.871645</td>\n",
       "      <td>27.064873</td>\n",
       "    </tr>\n",
       "    <tr>\n",
       "      <th>min</th>\n",
       "      <td>1.430199e+09</td>\n",
       "      <td>0.000000</td>\n",
       "      <td>1.000000</td>\n",
       "      <td>0.000000</td>\n",
       "      <td>0.000000</td>\n",
       "      <td>0.000000</td>\n",
       "      <td>0.000000</td>\n",
       "      <td>0.000000</td>\n",
       "      <td>0.000000</td>\n",
       "      <td>0.000000</td>\n",
       "      <td>...</td>\n",
       "      <td>0.000000</td>\n",
       "      <td>0.000000</td>\n",
       "      <td>0.000000</td>\n",
       "      <td>-84.000000</td>\n",
       "      <td>900.000000</td>\n",
       "      <td>0.000000</td>\n",
       "      <td>0.000000</td>\n",
       "      <td>0.000000</td>\n",
       "      <td>0.000000</td>\n",
       "      <td>0.000000</td>\n",
       "    </tr>\n",
       "    <tr>\n",
       "      <th>25%</th>\n",
       "      <td>1.440815e+09</td>\n",
       "      <td>1.000000</td>\n",
       "      <td>22.000000</td>\n",
       "      <td>3.000000</td>\n",
       "      <td>767.000000</td>\n",
       "      <td>746.000000</td>\n",
       "      <td>2.000000</td>\n",
       "      <td>0.000000</td>\n",
       "      <td>0.000000</td>\n",
       "      <td>7.000000</td>\n",
       "      <td>...</td>\n",
       "      <td>3.000000</td>\n",
       "      <td>2.000000</td>\n",
       "      <td>0.000000</td>\n",
       "      <td>-31.000000</td>\n",
       "      <td>1818.000000</td>\n",
       "      <td>0.000000</td>\n",
       "      <td>36.000000</td>\n",
       "      <td>256.000000</td>\n",
       "      <td>3.000000</td>\n",
       "      <td>3.000000</td>\n",
       "    </tr>\n",
       "    <tr>\n",
       "      <th>50%</th>\n",
       "      <td>1.446338e+09</td>\n",
       "      <td>1.000000</td>\n",
       "      <td>50.000000</td>\n",
       "      <td>3.000000</td>\n",
       "      <td>1175.000000</td>\n",
       "      <td>1113.000000</td>\n",
       "      <td>11.000000</td>\n",
       "      <td>0.000000</td>\n",
       "      <td>0.000000</td>\n",
       "      <td>8.000000</td>\n",
       "      <td>...</td>\n",
       "      <td>3.000000</td>\n",
       "      <td>2.000000</td>\n",
       "      <td>1.000000</td>\n",
       "      <td>-16.000000</td>\n",
       "      <td>2268.000000</td>\n",
       "      <td>1.000000</td>\n",
       "      <td>1824.000000</td>\n",
       "      <td>1798.000000</td>\n",
       "      <td>63.000000</td>\n",
       "      <td>60.000000</td>\n",
       "    </tr>\n",
       "    <tr>\n",
       "      <th>75%</th>\n",
       "      <td>1.448829e+09</td>\n",
       "      <td>7.000000</td>\n",
       "      <td>75.000000</td>\n",
       "      <td>4.000000</td>\n",
       "      <td>1704.000000</td>\n",
       "      <td>1479.000000</td>\n",
       "      <td>19.000000</td>\n",
       "      <td>1.000000</td>\n",
       "      <td>1.000000</td>\n",
       "      <td>10.000000</td>\n",
       "      <td>...</td>\n",
       "      <td>4.000000</td>\n",
       "      <td>3.000000</td>\n",
       "      <td>1.000000</td>\n",
       "      <td>8.000000</td>\n",
       "      <td>2778.000000</td>\n",
       "      <td>1.000000</td>\n",
       "      <td>1974.000000</td>\n",
       "      <td>1974.000000</td>\n",
       "      <td>63.000000</td>\n",
       "      <td>63.000000</td>\n",
       "    </tr>\n",
       "    <tr>\n",
       "      <th>max</th>\n",
       "      <td>1.450313e+09</td>\n",
       "      <td>7.000000</td>\n",
       "      <td>112.000000</td>\n",
       "      <td>6.000000</td>\n",
       "      <td>3319.000000</td>\n",
       "      <td>4332.000000</td>\n",
       "      <td>47.000000</td>\n",
       "      <td>8.000000</td>\n",
       "      <td>5.000000</td>\n",
       "      <td>34.000000</td>\n",
       "      <td>...</td>\n",
       "      <td>9.000000</td>\n",
       "      <td>9.000000</td>\n",
       "      <td>13.000000</td>\n",
       "      <td>300.000000</td>\n",
       "      <td>8452.000000</td>\n",
       "      <td>1.000000</td>\n",
       "      <td>2047.000000</td>\n",
       "      <td>2047.000000</td>\n",
       "      <td>63.000000</td>\n",
       "      <td>63.000000</td>\n",
       "    </tr>\n",
       "  </tbody>\n",
       "</table>\n",
       "<p>8 rows × 108 columns</p>\n",
       "</div>"
      ],
      "text/plain": [
       "         start_time    lobby_type       r1_hero      r1_level         r1_xp  \\\n",
       "count  9.723000e+04  97230.000000  97230.000000  97230.000000  97230.000000   \n",
       "mean   1.444232e+09      2.630999     51.517104      3.442672   1233.405801   \n",
       "std    5.515393e+06      2.835761     32.564211      1.111741    566.588895   \n",
       "min    1.430199e+09      0.000000      1.000000      0.000000      0.000000   \n",
       "25%    1.440815e+09      1.000000     22.000000      3.000000    767.000000   \n",
       "50%    1.446338e+09      1.000000     50.000000      3.000000   1175.000000   \n",
       "75%    1.448829e+09      7.000000     75.000000      4.000000   1704.000000   \n",
       "max    1.450313e+09      7.000000    112.000000      6.000000   3319.000000   \n",
       "\n",
       "            r1_gold         r1_lh      r1_kills     r1_deaths      r1_items  \\\n",
       "count  97230.000000  97230.000000  97230.000000  97230.000000  97230.000000   \n",
       "mean    1147.899702     11.231996      0.357009      0.362285      8.271315   \n",
       "std      464.111662      9.041620      0.663889      0.626704      2.497575   \n",
       "min        0.000000      0.000000      0.000000      0.000000      0.000000   \n",
       "25%      746.000000      2.000000      0.000000      0.000000      7.000000   \n",
       "50%     1113.000000     11.000000      0.000000      0.000000      8.000000   \n",
       "75%     1479.000000     19.000000      1.000000      1.000000     10.000000   \n",
       "max     4332.000000     47.000000      8.000000      5.000000     34.000000   \n",
       "\n",
       "               ...           dire_boots_count  dire_ward_observer_count  \\\n",
       "count          ...               97230.000000              97230.000000   \n",
       "mean           ...                   3.349553                  2.448339   \n",
       "std            ...                   1.155609                  0.813459   \n",
       "min            ...                   0.000000                  0.000000   \n",
       "25%            ...                   3.000000                  2.000000   \n",
       "50%            ...                   3.000000                  2.000000   \n",
       "75%            ...                   4.000000                  3.000000   \n",
       "max            ...                   9.000000                  9.000000   \n",
       "\n",
       "       dire_ward_sentry_count  dire_first_ward_time      duration  \\\n",
       "count            97230.000000          95404.000000  97230.000000   \n",
       "mean                 0.689119             -6.901922   2332.247886   \n",
       "std                  0.710122             40.701397    715.806850   \n",
       "min                  0.000000            -84.000000    900.000000   \n",
       "25%                  0.000000            -31.000000   1818.000000   \n",
       "50%                  1.000000            -16.000000   2268.000000   \n",
       "75%                  1.000000              8.000000   2778.000000   \n",
       "max                 13.000000            300.000000   8452.000000   \n",
       "\n",
       "        radiant_win  tower_status_radiant  tower_status_dire  \\\n",
       "count  97230.000000          97230.000000       97230.000000   \n",
       "mean       0.518503           1309.227790        1286.310820   \n",
       "std        0.499660            853.921365         851.009148   \n",
       "min        0.000000              0.000000           0.000000   \n",
       "25%        0.000000             36.000000         256.000000   \n",
       "50%        1.000000           1824.000000        1798.000000   \n",
       "75%        1.000000           1974.000000        1974.000000   \n",
       "max        1.000000           2047.000000        2047.000000   \n",
       "\n",
       "       barracks_status_radiant  barracks_status_dire  \n",
       "count             97230.000000          97230.000000  \n",
       "mean                 40.599095             41.337036  \n",
       "std                  27.871645             27.064873  \n",
       "min                   0.000000              0.000000  \n",
       "25%                   3.000000              3.000000  \n",
       "50%                  63.000000             60.000000  \n",
       "75%                  63.000000             63.000000  \n",
       "max                  63.000000             63.000000  \n",
       "\n",
       "[8 rows x 108 columns]"
      ]
     },
     "execution_count": 218,
     "metadata": {},
     "output_type": "execute_result"
    }
   ],
   "source": [
    "features = pandas.read_csv('features.csv', index_col='match_id')\n",
    "features.describe()"
   ]
  },
  {
   "cell_type": "code",
   "execution_count": 219,
   "metadata": {},
   "outputs": [
    {
     "data": {
      "text/plain": [
       "first_blood_player2            0.452402\n",
       "radiant_flying_courier_time    0.282619\n",
       "dire_flying_courier_time       0.268415\n",
       "first_blood_player1            0.201100\n",
       "first_blood_team               0.201100\n",
       "first_blood_time               0.201100\n",
       "dire_bottle_time               0.166029\n",
       "radiant_bottle_time            0.161380\n",
       "radiant_first_ward_time        0.018883\n",
       "dire_first_ward_time           0.018780\n",
       "radiant_courier_time           0.007117\n",
       "dire_courier_time              0.006953\n",
       "Name: count, dtype: float64"
      ]
     },
     "execution_count": 219,
     "metadata": {},
     "output_type": "execute_result"
    }
   ],
   "source": [
    "size = len(features)\n",
    "skip = features.describe().T['count']\n",
    "skip = skip[skip < size]\n",
    "skip = skip.apply(lambda x: (size - x) / size).sort_values(ascending=False)\n",
    "skip"
   ]
  },
  {
   "cell_type": "markdown",
   "metadata": {},
   "source": [
    "## Объяснение пропусков:\n",
    "\n",
    "- first_blood_player2 --- в 45% случаях первая кровь зависила лишь от одного игрока.\n",
    "- first_blood_time --- в 20% случаях первая кровь не наступала в первые 5 минут игры."
   ]
  },
  {
   "cell_type": "markdown",
   "metadata": {},
   "source": [
    "# Предобработка данных"
   ]
  },
  {
   "cell_type": "code",
   "execution_count": 220,
   "metadata": {},
   "outputs": [],
   "source": [
    "train = features.drop(['duration', \n",
    "         'tower_status_radiant', \n",
    "         'tower_status_dire', \n",
    "         'barracks_status_radiant', \n",
    "         'barracks_status_dire'\n",
    "        ], axis=1)\n",
    "X = train[train.columns[:-1]]\n",
    "y = train['radiant_win']"
   ]
  },
  {
   "cell_type": "markdown",
   "metadata": {},
   "source": [
    "Целевая переменная --- *radiant_win*"
   ]
  },
  {
   "cell_type": "markdown",
   "metadata": {},
   "source": [
    "## Очистка"
   ]
  },
  {
   "cell_type": "code",
   "execution_count": 221,
   "metadata": {},
   "outputs": [],
   "source": [
    "all_heroes = [team + str(x) + '_hero' for x in range(1, 6) for team in ['r', 'd']]\n",
    "\n",
    "def clean(data):\n",
    "    return data.fillna(0)\n",
    "\n",
    "def clean_categorie(data):\n",
    "    return data.drop(['lobby_type'] + all_heroes, axis=1)"
   ]
  },
  {
   "cell_type": "code",
   "execution_count": 222,
   "metadata": {},
   "outputs": [],
   "source": [
    "X = clean(X)"
   ]
  },
  {
   "cell_type": "markdown",
   "metadata": {},
   "source": [
    "# Градиентный бустинг"
   ]
  },
  {
   "cell_type": "code",
   "execution_count": 223,
   "metadata": {
    "collapsed": true
   },
   "outputs": [],
   "source": [
    "from sklearn.ensemble import GradientBoostingClassifier\n",
    "from sklearn.model_selection import KFold, cross_val_score\n",
    "from numpy import mean\n",
    "import time\n",
    "import datetime\n",
    "import matplotlib.pyplot as plt\n",
    "\n",
    "%matplotlib inline"
   ]
  },
  {
   "cell_type": "code",
   "execution_count": 224,
   "metadata": {},
   "outputs": [
    {
     "name": "stdout",
     "output_type": "stream",
     "text": [
      "learning_rate=0.05\n",
      "n_estimators=10. Score=0.6408695866609053. Time elapsed: 0:00:31.800444\n",
      "n_estimators=20. Score=0.6683671322281609. Time elapsed: 0:00:48.698431\n",
      "n_estimators=30. Score=0.6788474766061897. Time elapsed: 0:01:09.386536\n",
      "n_estimators=50. Score=0.6879389734656856. Time elapsed: 0:01:43.788844\n",
      "n_estimators=80. Score=0.6949820168728108. Time elapsed: 0:02:44.105455\n",
      "learning_rate=0.1\n",
      "n_estimators=10. Score=0.6646757963296153. Time elapsed: 0:00:24.112495\n",
      "n_estimators=20. Score=0.6822875028354228. Time elapsed: 0:00:49.872460\n",
      "n_estimators=30. Score=0.689296227196561. Time elapsed: 0:01:11.011396\n",
      "n_estimators=50. Score=0.6968877763372511. Time elapsed: 0:01:46.703417\n",
      "n_estimators=80. Score=0.7037036897411623. Time elapsed: 0:02:41.273506\n"
     ]
    }
   ],
   "source": [
    "rates = [0.05, 0.1]\n",
    "nums = [10, 20, 30, 50, 80]\n",
    "\n",
    "kfl = KFold(random_state=RAND, n_splits=5, shuffle=True)\n",
    "scores = [[], []]\n",
    "\n",
    "for i, learning_rate in enumerate(rates):\n",
    "    print('learning_rate={0}'.format(learning_rate))\n",
    "    for n_estimators in nums:\n",
    "        gbc = GradientBoostingClassifier(learning_rate=learning_rate, n_estimators=n_estimators)\n",
    "        \n",
    "        start_time = datetime.datetime.now()\n",
    "        score = mean(cross_val_score(gbc, X, y, cv=kfl, scoring='roc_auc', n_jobs=-1))\n",
    "        scores[i].append(score)\n",
    "        \n",
    "        time = datetime.datetime.now() - start_time\n",
    "        \n",
    "        print('n_estimators={0}. Score={1}. Time elapsed: {2}'.format(\n",
    "            n_estimators, \n",
    "            score, \n",
    "            time\n",
    "        ))"
   ]
  },
  {
   "cell_type": "markdown",
   "metadata": {},
   "source": [
    "При количестве деревьев равных 30.\n",
    "\n",
    "Время кросс-валидации: 1:33\n",
    "\n",
    "Качество: 0.689"
   ]
  },
  {
   "cell_type": "code",
   "execution_count": 225,
   "metadata": {},
   "outputs": [
    {
     "data": {
      "image/png": "[encoded data removed]",
      "text/plain": [
       "<matplotlib.figure.Figure at 0x7ba059da90>"
      ]
     },
     "metadata": {},
     "output_type": "display_data"
    },
    {
     "data": {
      "image/png": "[encoded data removed]",
      "text/plain": [
       "<matplotlib.figure.Figure at 0x7ba03f80b8>"
      ]
     },
     "metadata": {},
     "output_type": "display_data"
    }
   ],
   "source": [
    "for i, val in enumerate(rates):\n",
    "    plt.plot(nums, scores[i])\n",
    "    plt.xlabel('n_estimators')\n",
    "    plt.ylabel('score')\n",
    "    plt.title('learning_rate={0}'.format(val))\n",
    "    plt.show()"
   ]
  },
  {
   "cell_type": "markdown",
   "metadata": {},
   "source": [
    "Как видно из графиков, использование количества деревьев больше 30 приводит к лучшему результату.\n",
    "\n",
    "Для ускорения решения имеет смысл уменьшить глубину деревьев в градиентом бустинге (max_depth), либо используйте для обучения и кросс-валидации не всю выборку, а некоторое ее подмножество."
   ]
  },
  {
   "cell_type": "markdown",
   "metadata": {},
   "source": [
    "# Логистическая регрессия"
   ]
  },
  {
   "cell_type": "code",
   "execution_count": 226,
   "metadata": {
    "collapsed": true
   },
   "outputs": [],
   "source": [
    "from sklearn.linear_model import LogisticRegression\n",
    "from sklearn.preprocessing import StandardScaler\n",
    "from sklearn.feature_extraction import DictVectorizer\n",
    "\n",
    "def scale_data(data):\n",
    "    scaler = StandardScaler()\n",
    "    scaler.fit(data)\n",
    "    return scaler.transform(data)"
   ]
  },
  {
   "cell_type": "code",
   "execution_count": 227,
   "metadata": {},
   "outputs": [
    {
     "name": "stdout",
     "output_type": "stream",
     "text": [
      "C=1e-05. Score=0.6951769692945798. Time elapsed: 0:00:08.539618\n",
      "C=0.0001. Score=0.7113103783522267. Time elapsed: 0:00:09.662878\n",
      "C=0.001. Score=0.7162626658328097. Time elapsed: 0:00:10.054699\n",
      "C=0.01. Score=0.7164370423607987. Time elapsed: 0:00:11.432168\n",
      "C=0.1. Score=0.7164134926861443. Time elapsed: 0:00:11.477995\n",
      "C=1.0. Score=0.7164099830055872. Time elapsed: 0:00:11.763271\n",
      "C=10.0. Score=0.716409415358991. Time elapsed: 0:00:11.870568\n",
      "C=100.0. Score=0.7164093730372583. Time elapsed: 0:00:11.817834\n",
      "C=1000.0. Score=0.7164093582002996. Time elapsed: 0:00:11.685028\n",
      "C=10000.0. Score=0.7164093730227516. Time elapsed: 0:00:11.583133\n",
      "C=100000.0. Score=0.7164093730227516. Time elapsed: 0:00:11.640803\n"
     ]
    },
    {
     "data": {
      "image/png": "[encoded data removed]",
      "text/plain": [
       "<matplotlib.figure.Figure at 0x7ba059b7f0>"
      ]
     },
     "metadata": {},
     "output_type": "display_data"
    }
   ],
   "source": [
    "scale_X = scale_data(X)\n",
    "\n",
    "\n",
    "def lr_score(X, y, C_grid):\n",
    "    kfl = KFold(random_state=RAND, n_splits=5, shuffle=True)\n",
    "    scores = []\n",
    "\n",
    "    for C in C_grid:\n",
    "        lg = LogisticRegression(C=C, random_state=RAND)\n",
    "\n",
    "        start_time = datetime.datetime.now()\n",
    "        score = mean(cross_val_score(lg, X, y, cv=kfl, scoring='roc_auc', n_jobs=-1))\n",
    "        scores.append(score)\n",
    "\n",
    "        time = datetime.datetime.now() - start_time\n",
    "\n",
    "        print('C={0}. Score={1}. Time elapsed: {2}'.format(\n",
    "            C, \n",
    "            score, \n",
    "            time\n",
    "        ))\n",
    "    return scores\n",
    "\n",
    "\n",
    "def lr_process(X, y):\n",
    "    C_grid = np.power(10.0, np.arange(-5, 6))\n",
    "    scores = lr_score(X, y, C_grid)\n",
    "    \n",
    "    plt.plot(np.log10(C_grid), scores)\n",
    "    plt.xlabel('log10(C)')\n",
    "    plt.ylabel('score')\n",
    "    plt.show()\n",
    "    \n",
    "    \n",
    "lr_process(scale_X, y)"
   ]
  },
  {
   "cell_type": "markdown",
   "metadata": {},
   "source": [
    "Наилучшее качество достигается при C=0.1 и равно 0.716413.\n",
    "\n",
    "Результат лучше, чем градиентный бустинг при 80 деревьев. Решение работает в разы быстрее."
   ]
  },
  {
   "cell_type": "markdown",
   "metadata": {},
   "source": [
    "## Очистка категориальных признаков"
   ]
  },
  {
   "cell_type": "code",
   "execution_count": 228,
   "metadata": {},
   "outputs": [
    {
     "name": "stdout",
     "output_type": "stream",
     "text": [
      "C=1e-05. Score=0.6951110175213984. Time elapsed: 0:00:07.462254\n",
      "C=0.0001. Score=0.7112861288356834. Time elapsed: 0:00:08.093764\n",
      "C=0.001. Score=0.7162750689275057. Time elapsed: 0:00:09.683497\n",
      "C=0.01. Score=0.7164537824619709. Time elapsed: 0:00:10.985197\n",
      "C=0.1. Score=0.7164281625494288. Time elapsed: 0:00:11.093179\n",
      "C=1.0. Score=0.7164251446917627. Time elapsed: 0:00:11.112380\n",
      "C=10.0. Score=0.7164247122599274. Time elapsed: 0:00:11.584675\n",
      "C=100.0. Score=0.7164245131121989. Time elapsed: 0:00:11.175492\n",
      "C=1000.0. Score=0.7164244855679238. Time elapsed: 0:00:11.192221\n",
      "C=10000.0. Score=0.7164244813313776. Time elapsed: 0:00:12.481352\n",
      "C=100000.0. Score=0.7164244834518702. Time elapsed: 0:00:11.670873\n"
     ]
    },
    {
     "data": {
      "image/png": "[encoded data removed]",
      "text/plain": [
       "<matplotlib.figure.Figure at 0x7ba181def0>"
      ]
     },
     "metadata": {},
     "output_type": "display_data"
    }
   ],
   "source": [
    "clean_X = scale_data(clean_categorie(X))\n",
    "lr_process(clean_X, y)"
   ]
  },
  {
   "cell_type": "markdown",
   "metadata": {},
   "source": [
    "Наилучшее качество достигается при C=0.1 и равно 0.716428.\n",
    "\n",
    "При очистки категориальных признаков результат почти не изменился. Модель приспособилась под них."
   ]
  },
  {
   "cell_type": "code",
   "execution_count": 229,
   "metadata": {},
   "outputs": [
    {
     "name": "stdout",
     "output_type": "stream",
     "text": [
      "В данные входят 112 героев\n"
     ]
    }
   ],
   "source": [
    "heroes = []\n",
    "for v in all_heroes:\n",
    "    heroes = np.hstack([heroes, X[v].get_values()])\n",
    "    \n",
    "count_heroes = int(max(heroes))\n",
    "print('В данные входят %d героев' % count_heroes)"
   ]
  },
  {
   "cell_type": "code",
   "execution_count": 230,
   "metadata": {},
   "outputs": [
    {
     "name": "stderr",
     "output_type": "stream",
     "text": [
      "E:\\Program Files\\Anaconda\\lib\\site-packages\\ipykernel_launcher.py:9: DeprecationWarning: \n",
      ".ix is deprecated. Please use\n",
      ".loc for label based indexing or\n",
      ".iloc for positional indexing\n",
      "\n",
      "See the documentation here:\n",
      "http://pandas.pydata.org/pandas-docs/stable/indexing.html#deprecate_ix\n",
      "  if __name__ == '__main__':\n"
     ]
    }
   ],
   "source": [
    "# добавления мешка слов\n",
    "\n",
    "def bag_word_transform(X):\n",
    "    new_X = scale_data(clean_categorie(X))\n",
    "    X_pick = np.zeros((X.shape[0], count_heroes))\n",
    "\n",
    "    for i, match_id in enumerate(X.index):\n",
    "        for p in range(1, 6):\n",
    "            X_pick[i, X.ix[match_id, 'r%d_hero' % p] - 1] = 1\n",
    "            X_pick[i, X.ix[match_id, 'd%d_hero' % p] - 1] = -1\n",
    "    new_X = np.hstack([new_X, X_pick])\n",
    "    return new_X\n",
    "\n",
    "new_X = bag_word_transform(X)"
   ]
  },
  {
   "cell_type": "code",
   "execution_count": 231,
   "metadata": {},
   "outputs": [
    {
     "name": "stdout",
     "output_type": "stream",
     "text": [
      "C=1e-05. Score=0.6992182373866199. Time elapsed: 0:00:08.461649\n",
      "C=0.0001. Score=0.7250221113316808. Time elapsed: 0:00:08.490931\n",
      "C=0.001. Score=0.7462548020066256. Time elapsed: 0:00:11.490115\n",
      "C=0.01. Score=0.7517224287381921. Time elapsed: 0:00:15.023066\n",
      "C=0.1. Score=0.7519495370110515. Time elapsed: 0:00:16.918662\n",
      "C=1.0. Score=0.7519381371507132. Time elapsed: 0:00:18.752448\n",
      "C=10.0. Score=0.7519347133791103. Time elapsed: 0:00:20.043991\n",
      "C=100.0. Score=0.7519340882401432. Time elapsed: 0:00:18.931631\n",
      "C=1000.0. Score=0.7519341496928998. Time elapsed: 0:00:21.500479\n",
      "C=10000.0. Score=0.7519340438573741. Time elapsed: 0:00:22.588775\n",
      "C=100000.0. Score=0.7519343468741349. Time elapsed: 0:00:19.721790\n"
     ]
    },
    {
     "data": {
      "image/png": "[encoded data removed]",
      "text/plain": [
       "<matplotlib.figure.Figure at 0x7ba07be588>"
      ]
     },
     "metadata": {},
     "output_type": "display_data"
    }
   ],
   "source": [
    "lr_process(new_X, y)"
   ]
  },
  {
   "cell_type": "markdown",
   "metadata": {},
   "source": [
    "Наилучшее качество достигается при C=0.1 и равно 0.752.\n",
    "\n",
    "Качество улучшилось. Были добавлены очень разреженные признаки, на которых хорошо работает логистическая регрессия."
   ]
  },
  {
   "cell_type": "code",
   "execution_count": 232,
   "metadata": {},
   "outputs": [
    {
     "name": "stderr",
     "output_type": "stream",
     "text": [
      "E:\\Program Files\\Anaconda\\lib\\site-packages\\ipykernel_launcher.py:9: DeprecationWarning: \n",
      ".ix is deprecated. Please use\n",
      ".loc for label based indexing or\n",
      ".iloc for positional indexing\n",
      "\n",
      "See the documentation here:\n",
      "http://pandas.pydata.org/pandas-docs/stable/indexing.html#deprecate_ix\n",
      "  if __name__ == '__main__':\n"
     ]
    }
   ],
   "source": [
    "def kaggle_save(name, model, data, transform):\n",
    "    X_test = transform(data)\n",
    "    y_test = model.predict_proba(X_test)[:, 1]\n",
    "    print(min(y_test), max(y_test))\n",
    "    result = pandas.DataFrame({'radiant_win': y_test}, index=data.index)\n",
    "    result.index.name = 'match_id'\n",
    "    result.to_csv('{}.csv'.format(name))\n",
    "\n",
    "test_data = pandas.read_csv('features_test.csv', index_col='match_id')\n",
    "\n",
    "lg = LogisticRegression(C=0.1, random_state=RAND)\n",
    "lg.fit(new_X, y)\n",
    "\n",
    "kaggle_save('lr_bag', lg, test_data, lambda x: bag_word_transform(clean(x)))"
   ]
  },
  {
   "cell_type": "markdown",
   "metadata": {},
   "source": [
    "# Отправляем решение на kaggle в соревнование: Dota 2: Win Probability Prediction.\n",
    "\n",
    "Данный код получает 0.75526 очков на kaggle."
   ]
  }
 ],
 "metadata": {
  "kernelspec": {
   "display_name": "Python 3",
   "language": "python",
   "name": "python3"
  },
  "language_info": {
   "codemirror_mode": {
    "name": "ipython",
    "version": 3
   },
   "file_extension": ".py",
   "mimetype": "text/x-python",
   "name": "python",
   "nbconvert_exporter": "python",
   "pygments_lexer": "ipython3",
   "version": "3.6.1"
  }
 },
 "nbformat": 4,
 "nbformat_minor": 2
}
