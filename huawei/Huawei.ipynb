{
 "cells": [
  {
   "cell_type": "code",
   "execution_count": 1,
   "metadata": {
    "collapsed": true
   },
   "outputs": [],
   "source": [
    "import pandas as pd\n",
    "import numpy as np\n",
    "import pylab as plt\n",
    "import math\n",
    "from IPython.display import display\n",
    "from sklearn import preprocessing\n",
    "import scipy.sparse as sp\n",
    "from sklearn.feature_extraction.text import *\n",
    "from sklearn.model_selection import cross_val_score, KFold\n",
    "from sklearn.metrics import mean_squared_error\n",
    "%matplotlib inline\n",
    "\n",
    "RAND = 228\n",
    "MAX_N = 10**4\n",
    "MAX_TEST = 1"
   ]
  },
  {
   "cell_type": "code",
   "execution_count": 2,
   "metadata": {},
   "outputs": [
    {
     "name": "stdout",
     "output_type": "stream",
     "text": [
      "0.213046774231\n"
     ]
    }
   ],
   "source": [
    "test_cases = []\n",
    "MEAN_SQRT = 0\n",
    "for i in range(1, MAX_TEST + 1):\n",
    "    line_to_floats = lambda x: \\\n",
    "        np.array(list(map(\n",
    "            float, filter(\n",
    "                lambda line: len(line) > 0, \n",
    "                x.split(' ')\n",
    "            )\n",
    "        )))\n",
    "    \n",
    "    inp = 'data/input00' + str(i) + '.txt'\n",
    "    out = 'data/output00' + str(i) + '.txt'\n",
    "    X = []\n",
    "    y = []\n",
    "    with open(inp, 'r') as file:\n",
    "        for line in file:\n",
    "            X.append(line_to_floats(line))\n",
    "            \n",
    "    with open(out, 'r') as file:\n",
    "        for line in file:\n",
    "            y.append(line_to_floats(line))\n",
    "    y = y[1:]\n",
    "    test_cases.append((np.array(X), np.array(y)))\n",
    "    for p in y:\n",
    "            MEAN_SQRT += p[0] * p[0] + p[1] * p[1]\n",
    "print(MEAN_SQRT / MAX_TEST / MAX_N)"
   ]
  },
  {
   "cell_type": "code",
   "execution_count": 3,
   "metadata": {
    "collapsed": true
   },
   "outputs": [],
   "source": [
    "def task_score(true, predict):\n",
    "    serr = 0\n",
    "    s = 0\n",
    "    for t, p in zip(true, predict):\n",
    "        er = t - p\n",
    "        serr += er.dot(er)\n",
    "        s += t.dot(t)\n",
    "    return -10 * np.log10(serr / s) / 80 * 100"
   ]
  },
  {
   "cell_type": "code",
   "execution_count": 4,
   "metadata": {},
   "outputs": [
    {
     "data": {
      "text/plain": [
       "(array([[ 3.88690436,  0.        ,  0.        ,  0.        ,  0.        ],\n",
       "        [ 3.98679275,  0.        ,  0.        ,  0.        ,  0.        ],\n",
       "        [ 3.70526474,  0.        , -0.        ,  0.        ,  0.        ]]),\n",
       " array([[-0.94828851,  0.        ],\n",
       "        [-1.01183056,  0.        ],\n",
       "        [-0.83274202,  0.        ]]))"
      ]
     },
     "execution_count": 4,
     "metadata": {},
     "output_type": "execute_result"
    }
   ],
   "source": [
    "import random\n",
    "\n",
    "def generate_seq(k, test=0):\n",
    "    X_test, y_test = test_cases[test] #test_cases[random.randint(0, MAX_TEST - 1)]\n",
    "    start = random.randint(0, MAX_N - 100)\n",
    "    return X_test[start:start + k], y_test[start:start + k]\n",
    "generate_seq(3)"
   ]
  },
  {
   "cell_type": "code",
   "execution_count": 5,
   "metadata": {
    "collapsed": true
   },
   "outputs": [],
   "source": [
    "def genearte_X_y(n, k):\n",
    "    X, y = [], []\n",
    "    for i in range(n):\n",
    "        test, answer = generate_seq(k)\n",
    "        X.append(test[:-1].ravel())\n",
    "        y.append(answer[-1])\n",
    "    return np.array(X), np.array(y)"
   ]
  },
  {
   "cell_type": "code",
   "execution_count": 6,
   "metadata": {},
   "outputs": [
    {
     "data": {
      "text/plain": [
       "(1000, 95)"
      ]
     },
     "metadata": {},
     "output_type": "display_data"
    }
   ],
   "source": [
    "X_data, y_data = genearte_X_y(1000, 20)\n",
    "display(X_data.shape)"
   ]
  },
  {
   "cell_type": "code",
   "execution_count": 7,
   "metadata": {},
   "outputs": [
    {
     "data": {
      "text/plain": [
       "(1000, 4656)"
      ]
     },
     "metadata": {},
     "output_type": "display_data"
    },
    {
     "data": {
      "text/plain": [
       "array([[  1.00000000e+00,  -1.34030621e-05,   0.00000000e+00, ...,\n",
       "          0.00000000e+00,   0.00000000e+00,   6.07717042e-01],\n",
       "       [  1.00000000e+00,   5.50761281e-01,   0.00000000e+00, ...,\n",
       "          0.00000000e+00,  -0.00000000e+00,   1.64550265e+00],\n",
       "       [  1.00000000e+00,   4.18815897e-01,   0.00000000e+00, ...,\n",
       "          0.00000000e+00,   0.00000000e+00,   6.07717042e-01],\n",
       "       ..., \n",
       "       [  1.00000000e+00,  -4.01396825e-01,   0.00000000e+00, ...,\n",
       "          0.00000000e+00,  -0.00000000e+00,   1.64550265e+00],\n",
       "       [  1.00000000e+00,   1.81805097e-01,   0.00000000e+00, ...,\n",
       "          0.00000000e+00,  -0.00000000e+00,   1.64550265e+00],\n",
       "       [  1.00000000e+00,   1.32729156e-02,   0.00000000e+00, ...,\n",
       "          0.00000000e+00,   0.00000000e+00,   6.07717042e-01]])"
      ]
     },
     "metadata": {},
     "output_type": "display_data"
    }
   ],
   "source": [
    "from sklearn.preprocessing import PolynomialFeatures\n",
    "from sklearn import preprocessing\n",
    "\n",
    "X = preprocessing.StandardScaler().fit_transform(X_data) \n",
    "X = PolynomialFeatures(degree=2).fit_transform(X)\n",
    "y = y_data\n",
    "display(X.shape)\n",
    "display(X)"
   ]
  },
  {
   "cell_type": "code",
   "execution_count": 8,
   "metadata": {
    "collapsed": true
   },
   "outputs": [],
   "source": [
    "from sklearn.ensemble import RandomForestRegressor\n",
    "\n",
    "kfl = KFold(random_state=RAND, n_splits=3, shuffle=True)\n",
    "\n",
    "regr = RandomForestRegressor(\n",
    "    n_estimators=100, \n",
    "    max_depth=3, \n",
    "    random_state=RAND, \n",
    "    max_features='sqrt'\n",
    ")"
   ]
  },
  {
   "cell_type": "code",
   "execution_count": 9,
   "metadata": {},
   "outputs": [
    {
     "data": {
      "text/plain": [
       "-0.051310200065848056"
      ]
     },
     "metadata": {},
     "output_type": "display_data"
    }
   ],
   "source": [
    "cvs_regr = cross_val_score(regr, X, y, cv=kfl, scoring='neg_mean_squared_error')\n",
    "display(np.mean(cvs_regr))"
   ]
  },
  {
   "cell_type": "code",
   "execution_count": 10,
   "metadata": {},
   "outputs": [
    {
     "data": {
      "text/plain": [
       "4.8760816096008828"
      ]
     },
     "metadata": {},
     "output_type": "display_data"
    },
    {
     "data": {
      "text/plain": [
       "[(array([-0.5222737,  0.       ]), array([-0.43507628,  0.        ])),\n",
       " (array([ 0.25083757,  0.        ]), array([ 0.19156976,  0.        ])),\n",
       " (array([-0.52096755,  0.        ]), array([-0.17251018,  0.        ])),\n",
       " (array([-0.30198171,  0.        ]), array([-0.21426432,  0.        ])),\n",
       " (array([-0.16317917,  0.        ]), array([-0.22633944,  0.        ]))]"
      ]
     },
     "metadata": {},
     "output_type": "display_data"
    }
   ],
   "source": [
    "regr.fit(X, y)\n",
    "result = regr.predict(X)\n",
    "display(task_score(y, result))\n",
    "display(list(zip(y, result))[:5])"
   ]
  },
  {
   "cell_type": "code",
   "execution_count": 11,
   "metadata": {
    "collapsed": true
   },
   "outputs": [],
   "source": [
    "from sklearn.svm import SVR\n",
    "\n",
    "class multi_model:\n",
    "    def __init__(self, model, *args, **param):\n",
    "        self.X_m = model(*args, **param)\n",
    "        self.Y_m = model(*args, **param)\n",
    "    def fit(self, X, y):\n",
    "        y_y, y_x = zip(*y)\n",
    "        self.X_m.fit(X, y_x)\n",
    "        self.Y_m.fit(X, y_y)\n",
    "    def predict(self, X):\n",
    "        return list(zip(self.X_m.predict(X), self.Y_m.predict(X)))\n",
    "    \n",
    "svr = multi_model(SVR, kernel='poly')"
   ]
  },
  {
   "cell_type": "code",
   "execution_count": 12,
   "metadata": {},
   "outputs": [
    {
     "data": {
      "text/plain": [
       "-1.4980400162997467"
      ]
     },
     "metadata": {},
     "output_type": "display_data"
    },
    {
     "data": {
      "text/plain": [
       "[(array([-0.5222737,  0.       ]), (0.0, -0.16280916868240636)),\n",
       " (array([ 0.25083757,  0.        ]), (0.0, 0.091801212550093159)),\n",
       " (array([-0.52096755,  0.        ]), (0.0, -0.44093349813621158)),\n",
       " (array([-0.30198171,  0.        ]), (0.0, 0.033294650199177198)),\n",
       " (array([-0.16317917,  0.        ]), (0.0, 0.018253419783391813))]"
      ]
     },
     "metadata": {},
     "output_type": "display_data"
    }
   ],
   "source": [
    "svr.fit(X, y)\n",
    "result = svr.predict(X)\n",
    "display(task_score(y, result))\n",
    "display(list(zip(y, result))[:5])"
   ]
  }
 ],
 "metadata": {
  "kernelspec": {
   "display_name": "Python 3",
   "language": "python",
   "name": "python3"
  },
  "language_info": {
   "codemirror_mode": {
    "name": "ipython",
    "version": 3
   },
   "file_extension": ".py",
   "mimetype": "text/x-python",
   "name": "python",
   "nbconvert_exporter": "python",
   "pygments_lexer": "ipython3",
   "version": "3.6.1"
  }
 },
 "nbformat": 4,
 "nbformat_minor": 2
}
