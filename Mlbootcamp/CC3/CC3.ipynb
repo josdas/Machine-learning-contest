{
 "cells": [
  {
   "cell_type": "markdown",
   "metadata": {},
   "source": [
    "## Задача \"CC3\" http://mlbootcamp.ru"
   ]
  },
  {
   "cell_type": "code",
   "execution_count": 1,
   "metadata": {
    "collapsed": true
   },
   "outputs": [],
   "source": [
    "import pandas\n",
    "import numpy as np\n",
    "import pylab as plt\n",
    "import math\n",
    "from pandas.plotting import scatter_matrix\n",
    "%matplotlib inline\n",
    "\n",
    "RAND = 228"
   ]
  },
  {
   "cell_type": "code",
   "execution_count": null,
   "metadata": {
    "collapsed": true
   },
   "outputs": [],
   "source": [
    "def read_csv(data_name, test=False):\n",
    "    data = pandas.read_csv(data_name, header=None, na_values='?')\n",
    "    data.columns = [str(x) + '_class' for x in range(1, 16)]\n",
    "    if result_name != None:\n",
    "        train = pandas.read_csv(result_name, header=None)\n",
    "        train.columns = [\"answer\"]\n",
    "        return (data, train)\n",
    "    return data\n"
   ]
  }
 ],
 "metadata": {
  "kernelspec": {
   "display_name": "Python 3",
   "language": "python",
   "name": "python3"
  },
  "language_info": {
   "codemirror_mode": {
    "name": "ipython",
    "version": 3
   },
   "file_extension": ".py",
   "mimetype": "text/x-python",
   "name": "python",
   "nbconvert_exporter": "python",
   "pygments_lexer": "ipython3",
   "version": "3.6.1"
  }
 },
 "nbformat": 4,
 "nbformat_minor": 2
}
