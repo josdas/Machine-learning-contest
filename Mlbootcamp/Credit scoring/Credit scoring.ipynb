{
 "cells": [
  {
   "cell_type": "markdown",
   "metadata": {},
   "source": [
    "# Задача \"Кредитный скоринг\" http://mlbootcamp.ru"
   ]
  },
  {
   "cell_type": "code",
   "execution_count": 91,
   "metadata": {
    "collapsed": true
   },
   "outputs": [],
   "source": [
    "import pandas\n",
    "import numpy as np\n",
    "import pylab as plt\n",
    "import math\n",
    "from pandas.plotting import scatter_matrix\n",
    "%matplotlib inline\n",
    "\n",
    "RAND = 228"
   ]
  },
  {
   "cell_type": "code",
   "execution_count": 92,
   "metadata": {},
   "outputs": [
    {
     "data": {
      "text/plain": [
       "(483, 15)"
      ]
     },
     "execution_count": 92,
     "metadata": {},
     "output_type": "execute_result"
    }
   ],
   "source": [
    "def read_csv(data_name, result_name=None):\n",
    "    data = pandas.read_csv(data_name, header=None, na_values='?')\n",
    "    data.columns = [str(x) + '_class' for x in range(1, 16)]\n",
    "    if result_name != None:\n",
    "        train = pandas.read_csv(result_name, header=None)\n",
    "        train.columns = [\"answer\"]\n",
    "        return (data, train)\n",
    "    return data\n",
    "\n",
    "X_data, y_train = read_csv('data\\crx_data_train_x.csv', 'data\\crx_data_train_y.csv')\n",
    "\n",
    "# выделения числовых и категориальных признаков\n",
    "categoricals = [x for x in X_data.columns if X_data[x].dtype.name == 'object']\n",
    "numericals   = [x for x in X_data.columns if X_data[x].dtype.name != 'object']\n",
    "\n",
    "X_data.shape"
   ]
  },
  {
   "cell_type": "code",
   "execution_count": 93,
   "metadata": {},
   "outputs": [
    {
     "data": {
      "text/html": [
       "<div>\n",
       "<style>\n",
       "    .dataframe thead tr:only-child th {\n",
       "        text-align: right;\n",
       "    }\n",
       "\n",
       "    .dataframe thead th {\n",
       "        text-align: left;\n",
       "    }\n",
       "\n",
       "    .dataframe tbody tr th {\n",
       "        vertical-align: top;\n",
       "    }\n",
       "</style>\n",
       "<table border=\"1\" class=\"dataframe\">\n",
       "  <thead>\n",
       "    <tr style=\"text-align: right;\">\n",
       "      <th></th>\n",
       "      <th>1_class</th>\n",
       "      <th>4_class</th>\n",
       "      <th>5_class</th>\n",
       "      <th>6_class</th>\n",
       "      <th>7_class</th>\n",
       "      <th>9_class</th>\n",
       "      <th>10_class</th>\n",
       "      <th>12_class</th>\n",
       "      <th>13_class</th>\n",
       "    </tr>\n",
       "  </thead>\n",
       "  <tbody>\n",
       "    <tr>\n",
       "      <th>count</th>\n",
       "      <td>476</td>\n",
       "      <td>479</td>\n",
       "      <td>479</td>\n",
       "      <td>477</td>\n",
       "      <td>477</td>\n",
       "      <td>483</td>\n",
       "      <td>483</td>\n",
       "      <td>483</td>\n",
       "      <td>483</td>\n",
       "    </tr>\n",
       "    <tr>\n",
       "      <th>unique</th>\n",
       "      <td>2</td>\n",
       "      <td>3</td>\n",
       "      <td>3</td>\n",
       "      <td>14</td>\n",
       "      <td>8</td>\n",
       "      <td>2</td>\n",
       "      <td>2</td>\n",
       "      <td>2</td>\n",
       "      <td>3</td>\n",
       "    </tr>\n",
       "    <tr>\n",
       "      <th>top</th>\n",
       "      <td>b</td>\n",
       "      <td>u</td>\n",
       "      <td>g</td>\n",
       "      <td>c</td>\n",
       "      <td>v</td>\n",
       "      <td>t</td>\n",
       "      <td>f</td>\n",
       "      <td>f</td>\n",
       "      <td>g</td>\n",
       "    </tr>\n",
       "    <tr>\n",
       "      <th>freq</th>\n",
       "      <td>329</td>\n",
       "      <td>364</td>\n",
       "      <td>364</td>\n",
       "      <td>91</td>\n",
       "      <td>279</td>\n",
       "      <td>261</td>\n",
       "      <td>270</td>\n",
       "      <td>253</td>\n",
       "      <td>439</td>\n",
       "    </tr>\n",
       "  </tbody>\n",
       "</table>\n",
       "</div>"
      ],
      "text/plain": [
       "       1_class 4_class 5_class 6_class 7_class 9_class 10_class 12_class  \\\n",
       "count      476     479     479     477     477     483      483      483   \n",
       "unique       2       3       3      14       8       2        2        2   \n",
       "top          b       u       g       c       v       t        f        f   \n",
       "freq       329     364     364      91     279     261      270      253   \n",
       "\n",
       "       13_class  \n",
       "count       483  \n",
       "unique        3  \n",
       "top           g  \n",
       "freq        439  "
      ]
     },
     "execution_count": 93,
     "metadata": {},
     "output_type": "execute_result"
    }
   ],
   "source": [
    "X_data[categoricals].describe()"
   ]
  },
  {
   "cell_type": "code",
   "execution_count": 94,
   "metadata": {},
   "outputs": [
    {
     "data": {
      "text/html": [
       "<div>\n",
       "<style>\n",
       "    .dataframe thead tr:only-child th {\n",
       "        text-align: right;\n",
       "    }\n",
       "\n",
       "    .dataframe thead th {\n",
       "        text-align: left;\n",
       "    }\n",
       "\n",
       "    .dataframe tbody tr th {\n",
       "        vertical-align: top;\n",
       "    }\n",
       "</style>\n",
       "<table border=\"1\" class=\"dataframe\">\n",
       "  <thead>\n",
       "    <tr style=\"text-align: right;\">\n",
       "      <th></th>\n",
       "      <th>2_class</th>\n",
       "      <th>3_class</th>\n",
       "      <th>8_class</th>\n",
       "      <th>11_class</th>\n",
       "      <th>14_class</th>\n",
       "      <th>15_class</th>\n",
       "    </tr>\n",
       "  </thead>\n",
       "  <tbody>\n",
       "    <tr>\n",
       "      <th>count</th>\n",
       "      <td>476.000000</td>\n",
       "      <td>483.000000</td>\n",
       "      <td>483.000000</td>\n",
       "      <td>483.000000</td>\n",
       "      <td>477.000000</td>\n",
       "      <td>483.000000</td>\n",
       "    </tr>\n",
       "    <tr>\n",
       "      <th>mean</th>\n",
       "      <td>31.555462</td>\n",
       "      <td>4.796056</td>\n",
       "      <td>2.171170</td>\n",
       "      <td>2.387164</td>\n",
       "      <td>184.981132</td>\n",
       "      <td>951.000000</td>\n",
       "    </tr>\n",
       "    <tr>\n",
       "      <th>std</th>\n",
       "      <td>12.057072</td>\n",
       "      <td>5.116264</td>\n",
       "      <td>3.352241</td>\n",
       "      <td>4.352373</td>\n",
       "      <td>165.520244</td>\n",
       "      <td>4089.710922</td>\n",
       "    </tr>\n",
       "    <tr>\n",
       "      <th>min</th>\n",
       "      <td>13.750000</td>\n",
       "      <td>0.000000</td>\n",
       "      <td>0.000000</td>\n",
       "      <td>0.000000</td>\n",
       "      <td>0.000000</td>\n",
       "      <td>0.000000</td>\n",
       "    </tr>\n",
       "    <tr>\n",
       "      <th>25%</th>\n",
       "      <td>22.647500</td>\n",
       "      <td>0.980000</td>\n",
       "      <td>0.165000</td>\n",
       "      <td>0.000000</td>\n",
       "      <td>80.000000</td>\n",
       "      <td>0.000000</td>\n",
       "    </tr>\n",
       "    <tr>\n",
       "      <th>50%</th>\n",
       "      <td>28.500000</td>\n",
       "      <td>2.750000</td>\n",
       "      <td>1.000000</td>\n",
       "      <td>0.000000</td>\n",
       "      <td>160.000000</td>\n",
       "      <td>6.000000</td>\n",
       "    </tr>\n",
       "    <tr>\n",
       "      <th>75%</th>\n",
       "      <td>38.250000</td>\n",
       "      <td>7.500000</td>\n",
       "      <td>2.500000</td>\n",
       "      <td>3.000000</td>\n",
       "      <td>280.000000</td>\n",
       "      <td>459.500000</td>\n",
       "    </tr>\n",
       "    <tr>\n",
       "      <th>max</th>\n",
       "      <td>80.250000</td>\n",
       "      <td>28.000000</td>\n",
       "      <td>28.500000</td>\n",
       "      <td>40.000000</td>\n",
       "      <td>1160.000000</td>\n",
       "      <td>51100.000000</td>\n",
       "    </tr>\n",
       "  </tbody>\n",
       "</table>\n",
       "</div>"
      ],
      "text/plain": [
       "          2_class     3_class     8_class    11_class     14_class  \\\n",
       "count  476.000000  483.000000  483.000000  483.000000   477.000000   \n",
       "mean    31.555462    4.796056    2.171170    2.387164   184.981132   \n",
       "std     12.057072    5.116264    3.352241    4.352373   165.520244   \n",
       "min     13.750000    0.000000    0.000000    0.000000     0.000000   \n",
       "25%     22.647500    0.980000    0.165000    0.000000    80.000000   \n",
       "50%     28.500000    2.750000    1.000000    0.000000   160.000000   \n",
       "75%     38.250000    7.500000    2.500000    3.000000   280.000000   \n",
       "max     80.250000   28.000000   28.500000   40.000000  1160.000000   \n",
       "\n",
       "           15_class  \n",
       "count    483.000000  \n",
       "mean     951.000000  \n",
       "std     4089.710922  \n",
       "min        0.000000  \n",
       "25%        0.000000  \n",
       "50%        6.000000  \n",
       "75%      459.500000  \n",
       "max    51100.000000  "
      ]
     },
     "execution_count": 94,
     "metadata": {},
     "output_type": "execute_result"
    }
   ],
   "source": [
    "X_data[numericals].describe()"
   ]
  },
  {
   "cell_type": "code",
   "execution_count": 95,
   "metadata": {},
   "outputs": [
    {
     "name": "stdout",
     "output_type": "stream",
     "text": [
      "1_class ['b' 'a' nan]\n",
      "4_class ['u' 'y' nan 'l']\n",
      "5_class ['g' 'p' nan 'gg']\n",
      "6_class ['k' 'w' 'i' 'c' 'q' 'm' 'd' 'cc' nan 'aa' 'x' 'e' 'ff' 'j' 'r']\n",
      "7_class ['v' 'h' nan 'bb' 'ff' 'z' 'j' 'dd' 'n']\n",
      "9_class ['f' 't']\n",
      "10_class ['f' 't']\n",
      "12_class ['t' 'f']\n",
      "13_class ['g' 's' 'p']\n"
     ]
    }
   ],
   "source": [
    "# значения категориальных признаков\n",
    "cat_value = {}\n",
    "\n",
    "for x in categoricals:\n",
    "    temp = X_data[x].unique()\n",
    "    cat_value[x] = temp\n",
    "    print(x, temp)"
   ]
  },
  {
   "cell_type": "code",
   "execution_count": 96,
   "metadata": {},
   "outputs": [
    {
     "data": {
      "text/html": [
       "<div>\n",
       "<style>\n",
       "    .dataframe thead tr:only-child th {\n",
       "        text-align: right;\n",
       "    }\n",
       "\n",
       "    .dataframe thead th {\n",
       "        text-align: left;\n",
       "    }\n",
       "\n",
       "    .dataframe tbody tr th {\n",
       "        vertical-align: top;\n",
       "    }\n",
       "</style>\n",
       "<table border=\"1\" class=\"dataframe\">\n",
       "  <thead>\n",
       "    <tr style=\"text-align: right;\">\n",
       "      <th></th>\n",
       "      <th>2_class</th>\n",
       "      <th>3_class</th>\n",
       "      <th>8_class</th>\n",
       "      <th>11_class</th>\n",
       "      <th>14_class</th>\n",
       "      <th>15_class</th>\n",
       "    </tr>\n",
       "  </thead>\n",
       "  <tbody>\n",
       "    <tr>\n",
       "      <th>count</th>\n",
       "      <td>4.830000e+02</td>\n",
       "      <td>4.830000e+02</td>\n",
       "      <td>4.830000e+02</td>\n",
       "      <td>4.830000e+02</td>\n",
       "      <td>4.830000e+02</td>\n",
       "      <td>4.830000e+02</td>\n",
       "    </tr>\n",
       "    <tr>\n",
       "      <th>mean</th>\n",
       "      <td>3.172066e-17</td>\n",
       "      <td>-1.471103e-17</td>\n",
       "      <td>3.677757e-18</td>\n",
       "      <td>3.965082e-17</td>\n",
       "      <td>4.873029e-17</td>\n",
       "      <td>7.688812e-17</td>\n",
       "    </tr>\n",
       "    <tr>\n",
       "      <th>std</th>\n",
       "      <td>1.001037e+00</td>\n",
       "      <td>1.001037e+00</td>\n",
       "      <td>1.001037e+00</td>\n",
       "      <td>1.001037e+00</td>\n",
       "      <td>1.001037e+00</td>\n",
       "      <td>1.001037e+00</td>\n",
       "    </tr>\n",
       "    <tr>\n",
       "      <th>min</th>\n",
       "      <td>-1.489149e+00</td>\n",
       "      <td>-9.383857e-01</td>\n",
       "      <td>-6.483487e-01</td>\n",
       "      <td>-5.490426e-01</td>\n",
       "      <td>-1.125762e+00</td>\n",
       "      <td>-2.327759e-01</td>\n",
       "    </tr>\n",
       "    <tr>\n",
       "      <th>25%</th>\n",
       "      <td>-7.431302e-01</td>\n",
       "      <td>-7.466410e-01</td>\n",
       "      <td>-5.990769e-01</td>\n",
       "      <td>-5.490426e-01</td>\n",
       "      <td>-6.388961e-01</td>\n",
       "      <td>-2.327759e-01</td>\n",
       "    </tr>\n",
       "    <tr>\n",
       "      <th>50%</th>\n",
       "      <td>-2.413239e-01</td>\n",
       "      <td>-4.003268e-01</td>\n",
       "      <td>-3.497315e-01</td>\n",
       "      <td>-5.490426e-01</td>\n",
       "      <td>-1.520306e-01</td>\n",
       "      <td>-2.313072e-01</td>\n",
       "    </tr>\n",
       "    <tr>\n",
       "      <th>75%</th>\n",
       "      <td>5.180764e-01</td>\n",
       "      <td>5.290477e-01</td>\n",
       "      <td>9.819437e-02</td>\n",
       "      <td>1.409511e-01</td>\n",
       "      <td>5.660959e-01</td>\n",
       "      <td>-1.203042e-01</td>\n",
       "    </tr>\n",
       "    <tr>\n",
       "      <th>max</th>\n",
       "      <td>4.072538e+00</td>\n",
       "      <td>4.540032e+00</td>\n",
       "      <td>7.862242e+00</td>\n",
       "      <td>8.650874e+00</td>\n",
       "      <td>5.933788e+00</td>\n",
       "      <td>1.227495e+01</td>\n",
       "    </tr>\n",
       "  </tbody>\n",
       "</table>\n",
       "</div>"
      ],
      "text/plain": [
       "            2_class       3_class       8_class      11_class      14_class  \\\n",
       "count  4.830000e+02  4.830000e+02  4.830000e+02  4.830000e+02  4.830000e+02   \n",
       "mean   3.172066e-17 -1.471103e-17  3.677757e-18  3.965082e-17  4.873029e-17   \n",
       "std    1.001037e+00  1.001037e+00  1.001037e+00  1.001037e+00  1.001037e+00   \n",
       "min   -1.489149e+00 -9.383857e-01 -6.483487e-01 -5.490426e-01 -1.125762e+00   \n",
       "25%   -7.431302e-01 -7.466410e-01 -5.990769e-01 -5.490426e-01 -6.388961e-01   \n",
       "50%   -2.413239e-01 -4.003268e-01 -3.497315e-01 -5.490426e-01 -1.520306e-01   \n",
       "75%    5.180764e-01  5.290477e-01  9.819437e-02  1.409511e-01  5.660959e-01   \n",
       "max    4.072538e+00  4.540032e+00  7.862242e+00  8.650874e+00  5.933788e+00   \n",
       "\n",
       "           15_class  \n",
       "count  4.830000e+02  \n",
       "mean   7.688812e-17  \n",
       "std    1.001037e+00  \n",
       "min   -2.327759e-01  \n",
       "25%   -2.327759e-01  \n",
       "50%   -2.313072e-01  \n",
       "75%   -1.203042e-01  \n",
       "max    1.227495e+01  "
      ]
     },
     "execution_count": 96,
     "metadata": {},
     "output_type": "execute_result"
    }
   ],
   "source": [
    "from sklearn.preprocessing import StandardScaler, MaxAbsScaler\n",
    "\n",
    "# fill nan values\n",
    "class nan_filler:\n",
    "    def __init_(self):\n",
    "        self.__nan_values = None\n",
    "        self.__describe = None\n",
    "        \n",
    "    def fit(self, data):\n",
    "        self.__nan_values = data.mean(axis=0)\n",
    "        self.__describe = data[categoricals].describe()\n",
    "    \n",
    "    def transform(self, data):\n",
    "        data = data.fillna(self.__nan_values, axis=0)\n",
    "        categoricals = [x for x in data.columns if data[x].dtype.name == 'object']\n",
    "        for x in categoricals:\n",
    "            data[x] = data[x].fillna(self.__describe[x]['top'])\n",
    "        return data\n",
    "    \n",
    "    def fit_transform(self, data):\n",
    "        self.fit(data)\n",
    "        return self.transform(data)\n",
    "    \n",
    "# scale data to standart\n",
    "class my_scaler:\n",
    "    def __init_(self):\n",
    "        self.__scaler = None\n",
    "        self.__num_columns = None\n",
    "        \n",
    "    def fit(self, data):\n",
    "        self.__scaler = StandardScaler()\n",
    "        self.__num_columns = data.select_dtypes(include=[np.number]).columns\n",
    "        self.__scaler.fit(data[self.__num_columns])\n",
    "    \n",
    "    def transform(self, data):\n",
    "        data = data.copy()\n",
    "        data[self.__num_columns] = pandas.DataFrame(\n",
    "            self.__scaler.transform(data[self.__num_columns]),\n",
    "            columns=self.__num_columns\n",
    "        )\n",
    "        return data\n",
    "    \n",
    "    def fit_transform(self, data):\n",
    "        self.fit(data)\n",
    "        return self.transform(data)\n",
    "\n",
    "def log_transfom(data):\n",
    "    data = data.copy()\n",
    "    for x in [3, 8, 11, 15]:\n",
    "        data[str(x) + '_class_log'] = np.log(1 + data[str(x) + '_class'])\n",
    "        data.drop(str(x) + '_class', inplace=True, axis=1)\n",
    "    return data\n",
    "    \n",
    "Nan_filler = nan_filler()\n",
    "My_scaler = my_scaler()\n",
    "X_train = Nan_filler.fit_transform(X_data)\n",
    "# X_train = log_transfom(X_train)\n",
    "X_train = My_scaler.fit_transform(X_train)\n",
    "X_train.describe()"
   ]
  },
  {
   "cell_type": "code",
   "execution_count": 97,
   "metadata": {},
   "outputs": [
    {
     "data": {
      "image/png": "[encoded data removed]",
      "text/plain": [
       "<matplotlib.figure.Figure at 0xb1f6ab6198>"
      ]
     },
     "metadata": {},
     "output_type": "display_data"
    }
   ],
   "source": [
    "# Функция scatter_matrix позволяет построить для каждой количественной переменной гистограмму, \n",
    "# а для каждой пары таких переменных – диаграмму рассеяния\n",
    "\n",
    "scatter_matrix(X_train, alpha=0.05, figsize=(10, 10));"
   ]
  },
  {
   "cell_type": "markdown",
   "metadata": {},
   "source": [
    "Векторизация категориальных признаков"
   ]
  },
  {
   "cell_type": "code",
   "execution_count": 98,
   "metadata": {},
   "outputs": [],
   "source": [
    "class my_transform:\n",
    "    def __init_(self):\n",
    "        self.__categoricals = None\n",
    "        self.__numbers = None\n",
    "        self.__data = None\n",
    "    \n",
    "    def fit(self, data):\n",
    "        self.__categoricals = [x for x in data.columns if data[x].dtype.name == 'object']\n",
    "        self.__numbers = [x for x in data.columns if data[x].dtype.name != 'object']\n",
    "        self.__data = data\n",
    "        \n",
    "    def transform(self, data):\n",
    "        categorical = self.__categoricals\n",
    "        data = data.copy()\n",
    "        for column in categorical:\n",
    "            data[column] = data[column].astype('category', categories=self.__data[column].unique())\n",
    "            \n",
    "        binary = [x for x in categorical if len(self.__data[x].unique()) <= 2]\n",
    "        other  = [x for x in categorical if len(self.__data[x].unique()) >  2]\n",
    "        \n",
    "        data_nobin = pandas.get_dummies(data[other])\n",
    "        data_bin = data.drop(other, inplace=False, axis=1)\n",
    "        for x in binary:  \n",
    "            temp = self.__data[x].unique()\n",
    "            data_bin = data_bin.replace({x: {y:2 * i - 1 for i, y in enumerate(temp)}}, inplace=False)\n",
    "        return pandas.concat([data_bin, data_nobin], axis=1)\n",
    "    \n",
    "    def fit_transform(self, data):\n",
    "        self.fit(data)\n",
    "        return self.transform(data)\n",
    "\n",
    "My_transform = my_transform()\n",
    "X_train_n = My_transform.fit_transform(X_train)"
   ]
  },
  {
   "cell_type": "markdown",
   "metadata": {},
   "source": [
    "# Вспомогательные функции"
   ]
  },
  {
   "cell_type": "code",
   "execution_count": null,
   "metadata": {
    "collapsed": true
   },
   "outputs": [],
   "source": [
    "from sklearn.metrics import accuracy_score\n",
    "\n",
    "def save(name, model, X_test):\n",
    "    y_test = 1 - model.predict(X_test)\n",
    "    result = pandas.DataFrame(y_test,)\n",
    "    result.to_csv('{}.csv'.format(name), index=False, header=None)\n",
    "\n",
    "def save_result(name, model):\n",
    "    test_data = read_csv('data\\crx_data_test_x.csv')\n",
    "    test_data = Nan_filler.transform(test_data)\n",
    "    # test_data = log_transfom(test_data)\n",
    "    test_data = My_scaler.transform(test_data)\n",
    "    test_data = My_transform.transform(test_data)\n",
    "    \n",
    "    save(name, model, test_data)\n",
    "    \n",
    "def cr_score(model, X, y):\n",
    "    kfl = KFold(random_state=RAND, n_splits=3, shuffle=True)\n",
    "    return mean(cross_val_score(model, X, y, cv=kfl, n_jobs=-1))\n",
    "\n",
    "def base_train(name, model):\n",
    "    model.fit(X_train_n.get_values(), np.ravel(y_train.get_values()))\n",
    "    print(name + ' result: ', cr_score(model, X_train_n, y_train))\n",
    "    save_result(name, model)\n"
   ]
  },
  {
   "cell_type": "markdown",
   "metadata": {},
   "source": [
    "# LogisticRegression"
   ]
  },
  {
   "cell_type": "code",
   "execution_count": 99,
   "metadata": {},
   "outputs": [
    {
     "name": "stdout",
     "output_type": "stream",
     "text": [
      "C=0.001. Score=0.8303694158075601. Time elapsed: 0:00:06.259670\n",
      "C=0.01. Score=0.8531786941580757. Time elapsed: 0:00:05.897225\n",
      "C=0.1. Score=0.8531786941580755. Time elapsed: 0:00:06.212580\n",
      "C=1.0. Score=0.8448668384879724. Time elapsed: 0:00:06.260330\n",
      "C=10.0. Score=0.8407216494845361. Time elapsed: 0:00:06.108259\n",
      "C=100.0. Score=0.8344931271477662. Time elapsed: 0:00:06.966447\n"
     ]
    },
    {
     "data": {
      "image/png": "[encoded data removed]",
      "text/plain": [
       "<matplotlib.figure.Figure at 0xb1f3eeff28>"
      ]
     },
     "metadata": {},
     "output_type": "display_data"
    },
    {
     "name": "stdout",
     "output_type": "stream",
     "text": [
      "Наилучшее значение при C = 0.01\n"
     ]
    }
   ],
   "source": [
    "from sklearn.linear_model import LogisticRegression\n",
    "from sklearn.ensemble import GradientBoostingClassifier\n",
    "from sklearn.model_selection import KFold, cross_val_score\n",
    "from numpy import mean\n",
    "import time\n",
    "import datetime\n",
    "import matplotlib.pyplot as plt\n",
    "\n",
    "def lr_score(X, y, C_grid):\n",
    "    kfl = KFold(random_state=RAND, n_splits=5, shuffle=True)\n",
    "    scores = []\n",
    "\n",
    "    for C in C_grid:\n",
    "        start_time = datetime.datetime.now()\n",
    "        lg = LogisticRegression(C=C, random_state=RAND)\n",
    "\n",
    "        score = mean(cross_val_score(lg, X, y, cv=kfl, scoring='accuracy', n_jobs=-1))\n",
    "        scores.append(score)\n",
    "\n",
    "        time = datetime.datetime.now() - start_time\n",
    "\n",
    "        print('C={0}. Score={1}. Time elapsed: {2}'.format(\n",
    "            C, \n",
    "            score, \n",
    "            time\n",
    "        ))\n",
    "    return scores\n",
    "\n",
    "\n",
    "def lr_process(X, y):\n",
    "    C_grid = np.power(10.0, np.arange(-3, 3))\n",
    "    scores = lr_score(X, y, C_grid)\n",
    "    \n",
    "    plt.plot(np.log10(C_grid), scores)\n",
    "    plt.xlabel('log10(C)')\n",
    "    plt.ylabel('score')\n",
    "    plt.show()\n",
    "    \n",
    "    return C_grid[np.argmax(scores)]\n",
    "    \n",
    "C_best = lr_process(X_train_n, y_train)\n",
    "print('Наилучшее значение при C =', C_best)"
   ]
  },
  {
   "cell_type": "code",
   "execution_count": 100,
   "metadata": {},
   "outputs": [
    {
     "name": "stdout",
     "output_type": "stream",
     "text": [
      "lg result:  0.853002070393\n"
     ]
    }
   ],
   "source": [
    "lg = LogisticRegression(C=C_best, random_state=RAND)\n",
    "base_train('lg', lg)"
   ]
  },
  {
   "cell_type": "markdown",
   "metadata": {},
   "source": [
    "# SVC"
   ]
  },
  {
   "cell_type": "code",
   "execution_count": 101,
   "metadata": {},
   "outputs": [
    {
     "name": "stdout",
     "output_type": "stream",
     "text": [
      "svc result:  0.848861283644\n"
     ]
    }
   ],
   "source": [
    "from sklearn.svm import SVC\n",
    "\n",
    "svc = SVC()\n",
    "base_train('svc', svc)"
   ]
  },
  {
   "cell_type": "markdown",
   "metadata": {},
   "source": [
    "# RANDOM FOREST"
   ]
  },
  {
   "cell_type": "code",
   "execution_count": 102,
   "metadata": {},
   "outputs": [
    {
     "name": "stdout",
     "output_type": "stream",
     "text": [
      "rf result:  0.859213250518\n"
     ]
    }
   ],
   "source": [
    "from sklearn import ensemble\n",
    "\n",
    "rf = ensemble.RandomForestClassifier(n_estimators=100, random_state=RAND)\n",
    "base_train('rf', rf)"
   ]
  },
  {
   "cell_type": "markdown",
   "metadata": {},
   "source": [
    "# GaussianNB"
   ]
  },
  {
   "cell_type": "code",
   "execution_count": 103,
   "metadata": {},
   "outputs": [
    {
     "name": "stdout",
     "output_type": "stream",
     "text": [
      "gnb result:  0.706004140787\n"
     ]
    }
   ],
   "source": [
    "from sklearn.naive_bayes import GaussianNB\n",
    "\n",
    "gnb = GaussianNB()\n",
    "base_train('gnb', gnb)"
   ]
  },
  {
   "cell_type": "markdown",
   "metadata": {},
   "source": [
    "# KNeighborsClassifier"
   ]
  },
  {
   "cell_type": "code",
   "execution_count": 104,
   "metadata": {},
   "outputs": [
    {
     "name": "stdout",
     "output_type": "stream",
     "text": [
      "knn result:  0.824016563147\n"
     ]
    }
   ],
   "source": [
    "from sklearn.neighbors import KNeighborsClassifier\n",
    "\n",
    "knn = KNeighborsClassifier()\n",
    "base_train('knn', knn)"
   ]
  },
  {
   "cell_type": "markdown",
   "metadata": {},
   "source": [
    "# RidgeClassifier"
   ]
  },
  {
   "cell_type": "code",
   "execution_count": 107,
   "metadata": {},
   "outputs": [
    {
     "name": "stdout",
     "output_type": "stream",
     "text": [
      "rc result:  0.853002070393\n"
     ]
    }
   ],
   "source": [
    "from sklearn.linear_model import RidgeClassifier\n",
    "\n",
    "rc = RidgeClassifier()\n",
    "base_train('rc', rc)"
   ]
  },
  {
   "cell_type": "markdown",
   "metadata": {},
   "source": [
    "# AdaBoostClassifier"
   ]
  },
  {
   "cell_type": "code",
   "execution_count": 113,
   "metadata": {},
   "outputs": [
    {
     "name": "stdout",
     "output_type": "stream",
     "text": [
      "adc result:  0.84265010352\n"
     ]
    }
   ],
   "source": [
    "from sklearn.ensemble import AdaBoostClassifier\n",
    "\n",
    "adc = AdaBoostClassifier(n_estimators=100, learning_rate=0.3)\n",
    "base_train('adc', adc)"
   ]
  },
  {
   "cell_type": "markdown",
   "metadata": {},
   "source": [
    "## Объединение моделей"
   ]
  },
  {
   "cell_type": "code",
   "execution_count": 114,
   "metadata": {},
   "outputs": [
    {
     "name": "stdout",
     "output_type": "stream",
     "text": [
      "eclf result:  0.867494824017\n"
     ]
    }
   ],
   "source": [
    "from sklearn.ensemble import VotingClassifier\n",
    "\n",
    "eclf = VotingClassifier(estimators=[('lr', lg), ('rf', rf), ('rc', rc), ('adc', adc)])\n",
    "base_train('eclf', eclf)"
   ]
  }
 ],
 "metadata": {
  "kernelspec": {
   "display_name": "Python 3",
   "language": "python",
   "name": "python3"
  },
  "language_info": {
   "codemirror_mode": {
    "name": "ipython",
    "version": 3
   },
   "file_extension": ".py",
   "mimetype": "text/x-python",
   "name": "python",
   "nbconvert_exporter": "python",
   "pygments_lexer": "ipython3",
   "version": "3.6.1"
  }
 },
 "nbformat": 4,
 "nbformat_minor": 2
}
